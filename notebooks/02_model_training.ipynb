{
 "cells": [
  {
   "cell_type": "markdown",
   "metadata": {},
   "source": [
    "# VGG16 Transfer Learning - Treinamento do Modelo\\n",
    "\\n",
    "Este notebook demonstra como treinar o modelo de classificação bunny vs cat usando transfer learning com VGG16."
   ]
  },
  {
   "cell_type": "code",
   "execution_count": null,
   "metadata": {},
   "outputs": [],
   "source": [
    "# Imports necessários\\n",
    "import sys\\n",
    "import os\\n",
    "\\n",
    "# Adicionar o diretório do projeto ao path\\n",
    "sys.path.append('..')\\n",
    "\\n",
    "from configs.config import Config\\n",
    "from models.vgg16_transfer import VGG16Transfer\\n",
    "from utils.data_loader import DataLoader\\n",
    "from utils.visualization import Visualizer\\n",
    "import matplotlib.pyplot as plt"
   ]
  },
  {
   "cell_type": "code",
   "execution_count": null,
   "metadata": {},
   "outputs": [],
   "source": [
    "# Configuração\\n",
    "config = Config(\\n",
    "    epochs=15,\\n",
    "    batch_size=64,\\n",
    "    data_root='../Dataset-bunny_cat/classes'\\n",
    ")\\n",
    "\\n",
    "print(f'Configurações:')\\n",
    "print(f'  Épocas: {config.epochs}')\\n",
    "print(f'  Batch Size: {config.batch_size}')\\n",
    "print(f'  Classes: {config.class_names}')"
   ]
  },
  {
   "cell_type": "code",
   "execution_count": null,
   "metadata": {},
   "outputs": [],
   "source": [
    "# Carregar e preparar dados\\n",
    "print('Carregando dados...')\\n",
    "data_loader = DataLoader(config)\\n",
    "(x_train, y_train), (x_val, y_val), (x_test, y_test) = data_loader.get_train_val_test_data()\\n",
    "\\n",
    "print(f'Dados carregados:')\\n",
    "print(f'  Treino: {x_train.shape[0]} amostras')\\n",
    "print(f'  Validação: {x_val.shape[0]} amostras')\\n",
    "print(f'  Teste: {x_test.shape[0]} amostras')"
   ]
  },
  {
   "cell_type": "code",
   "execution_count": null,
   "metadata": {},
   "outputs": [],
   "source": [
    "# Visualizar algumas amostras\\n",
    "fig, axes = plt.subplots(2, 4, figsize=(16, 8))\\n",
    "for i in range(8):\\n",
    "    row, col = i // 4, i % 4\\n",
    "    axes[row, col].imshow(x_train[i])\\n",
    "    class_idx = np.argmax(y_train[i])\\n",
    "    axes[row, col].set_title(f'Classe: {config.class_names[class_idx]}')\\n",
    "    axes[row, col].axis('off')\\n",
    "\\n",
    "plt.tight_layout()\\n",
    "plt.show()"
   ]
  },
  {
   "cell_type": "code",
   "execution_count": null,
   "metadata": {},
   "outputs": [],
   "source": [
    "# Construir e compilar modelo\\n",
    "model = VGG16Transfer(num_classes=config.num_classes, freeze_features=True)\\n",
    "model.build_model()\\n",
    "model.compile_model()\\n",
    "\\n",
    "print('Arquitetura do modelo:')\\n",
    "model.model.summary()"
   ]
  },
  {
   "cell_type": "code",
   "execution_count": null,
   "metadata": {},
   "outputs": [],
   "source": [
    "# Treinar modelo\\n",
    "print('Iniciando treinamento...')\\n",
    "history = model.train(\\n",
    "    x_train, y_train,\\n",
    "    x_val, y_val,\\n",
    "    epochs=config.epochs,\\n",
    "    batch_size=config.batch_size\\n",
    ")"
   ]
  },
  {
   "cell_type": "code",
   "execution_count": null,
   "metadata": {},
   "outputs": [],
   "source": [
    "# Visualizar histórico de treinamento\\n",
    "visualizer = Visualizer()\\n",
    "visualizer.plot_training_history(history)"
   ]
  },
  {
   "cell_type": "code",
   "execution_count": null,
   "metadata": {},
   "outputs": [],
   "source": [
    "# Avaliar no conjunto de teste\\n",
    "test_loss, test_accuracy = model.evaluate(x_test, y_test)\\n",
    "print(f'\\nResultados no conjunto de teste:')\\n",
    "print(f'  Loss: {test_loss:.4f}')\\n",
    "print(f'  Accuracy: {test_accuracy:.4f}')"
   ]
  },
  {
   "cell_type": "code",
   "execution_count": null,
   "metadata": {},
   "outputs": [],
   "source": [
    "# Salvar modelo\\n",
    "model_path = '../checkpoints/vgg16_bunny_cat_notebook.h5'\\n",
    "model.save_model(model_path)\\n",
    "print(f'Modelo salvo em: {model_path}')"
   ]
  }
 ],
 "metadata": {
  "kernelspec": {
   "display_name": "Python 3",
   "language": "python",
   "name": "python3"
  },
  "language_info": {
   "codemirror_mode": {
    "name": "ipython",
    "version": 3
   },
   "file_extension": ".py",
   "name": "python",
   "nbconvert_exporter": "python",
   "pygments_lexer": "ipython3",
   "version": "3.8.0"
  }
 },
 "nbformat": 4,
 "nbformat_minor": 4
}